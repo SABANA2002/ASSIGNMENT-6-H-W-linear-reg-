{
 "cells": [
  {
   "cell_type": "markdown",
   "id": "f5b5f729",
   "metadata": {},
   "source": [
    "<h2 style=\"color:green\"> IMPORT LIBRARIES </h2>"
   ]
  },
  {
   "cell_type": "code",
   "execution_count": 1,
   "id": "f8ad8cce",
   "metadata": {},
   "outputs": [],
   "source": [
    "import matplotlib.pyplot as plt\n",
    "from scipy import stats\n",
    "import seaborn as sns\n",
    "import statsmodels.api as sm"
   ]
  },
  {
   "cell_type": "markdown",
   "id": "5e16c55b",
   "metadata": {},
   "source": [
    "<h2 style=\"color:green\"> IMPORT DATASET </h2>"
   ]
  },
  {
   "cell_type": "code",
   "execution_count": 2,
   "id": "bbe6abea",
   "metadata": {},
   "outputs": [
    {
     "data": {
      "text/html": [
       "<div>\n",
       "<style scoped>\n",
       "    .dataframe tbody tr th:only-of-type {\n",
       "        vertical-align: middle;\n",
       "    }\n",
       "\n",
       "    .dataframe tbody tr th {\n",
       "        vertical-align: top;\n",
       "    }\n",
       "\n",
       "    .dataframe thead th {\n",
       "        text-align: right;\n",
       "    }\n",
       "</style>\n",
       "<table border=\"1\" class=\"dataframe\">\n",
       "  <thead>\n",
       "    <tr style=\"text-align: right;\">\n",
       "      <th></th>\n",
       "      <th>Gender</th>\n",
       "      <th>Height</th>\n",
       "      <th>Weight</th>\n",
       "    </tr>\n",
       "  </thead>\n",
       "  <tbody>\n",
       "    <tr>\n",
       "      <th>0</th>\n",
       "      <td>Male</td>\n",
       "      <td>73.847017</td>\n",
       "      <td>241.893563</td>\n",
       "    </tr>\n",
       "    <tr>\n",
       "      <th>1</th>\n",
       "      <td>Male</td>\n",
       "      <td>68.781904</td>\n",
       "      <td>162.310473</td>\n",
       "    </tr>\n",
       "    <tr>\n",
       "      <th>2</th>\n",
       "      <td>Male</td>\n",
       "      <td>74.110105</td>\n",
       "      <td>212.740856</td>\n",
       "    </tr>\n",
       "    <tr>\n",
       "      <th>3</th>\n",
       "      <td>Male</td>\n",
       "      <td>71.730978</td>\n",
       "      <td>220.042470</td>\n",
       "    </tr>\n",
       "    <tr>\n",
       "      <th>4</th>\n",
       "      <td>Male</td>\n",
       "      <td>69.881796</td>\n",
       "      <td>206.349801</td>\n",
       "    </tr>\n",
       "  </tbody>\n",
       "</table>\n",
       "</div>"
      ],
      "text/plain": [
       "  Gender     Height      Weight\n",
       "0   Male  73.847017  241.893563\n",
       "1   Male  68.781904  162.310473\n",
       "2   Male  74.110105  212.740856\n",
       "3   Male  71.730978  220.042470\n",
       "4   Male  69.881796  206.349801"
      ]
     },
     "execution_count": 2,
     "metadata": {},
     "output_type": "execute_result"
    }
   ],
   "source": [
    "import pandas as pd\n",
    "data=pd.read_csv(\"C:/Users/bhava/Downloads/weight-height.csv\",na_values=\"?\")\n",
    "data.head()"
   ]
  },
  {
   "cell_type": "markdown",
   "id": "73f081de",
   "metadata": {},
   "source": [
    "<h2 style=\"color:green\"> CHECK NULL DATA  </h2>"
   ]
  },
  {
   "cell_type": "code",
   "execution_count": 3,
   "id": "2484c6e3",
   "metadata": {},
   "outputs": [
    {
     "data": {
      "text/plain": [
       "Gender    0\n",
       "Height    5\n",
       "Weight    5\n",
       "dtype: int64"
      ]
     },
     "execution_count": 3,
     "metadata": {},
     "output_type": "execute_result"
    }
   ],
   "source": [
    "data.isnull().sum()"
   ]
  },
  {
   "cell_type": "markdown",
   "id": "74463f66",
   "metadata": {},
   "source": [
    "<h2 style=\"color:green\"> DROP UNWANTED COLUMNS </h2>"
   ]
  },
  {
   "cell_type": "code",
   "execution_count": 4,
   "id": "990e7da1",
   "metadata": {},
   "outputs": [],
   "source": [
    "data.drop(['Gender'],axis=1,inplace=True)"
   ]
  },
  {
   "cell_type": "markdown",
   "id": "4ac20c6d",
   "metadata": {},
   "source": [
    "<h2 style=\"color:green\"> BOTH HEIGHT,WEIGHT-CONTINUOUS </h2>"
   ]
  },
  {
   "cell_type": "code",
   "execution_count": 5,
   "id": "8ef78bcd",
   "metadata": {},
   "outputs": [
    {
     "data": {
      "text/html": [
       "<div>\n",
       "<style scoped>\n",
       "    .dataframe tbody tr th:only-of-type {\n",
       "        vertical-align: middle;\n",
       "    }\n",
       "\n",
       "    .dataframe tbody tr th {\n",
       "        vertical-align: top;\n",
       "    }\n",
       "\n",
       "    .dataframe thead th {\n",
       "        text-align: right;\n",
       "    }\n",
       "</style>\n",
       "<table border=\"1\" class=\"dataframe\">\n",
       "  <thead>\n",
       "    <tr style=\"text-align: right;\">\n",
       "      <th></th>\n",
       "      <th>Height</th>\n",
       "      <th>Weight</th>\n",
       "    </tr>\n",
       "  </thead>\n",
       "  <tbody>\n",
       "    <tr>\n",
       "      <th>count</th>\n",
       "      <td>194.000000</td>\n",
       "      <td>194.000000</td>\n",
       "    </tr>\n",
       "    <tr>\n",
       "      <th>mean</th>\n",
       "      <td>68.806316</td>\n",
       "      <td>185.574280</td>\n",
       "    </tr>\n",
       "    <tr>\n",
       "      <th>std</th>\n",
       "      <td>2.660740</td>\n",
       "      <td>19.450003</td>\n",
       "    </tr>\n",
       "    <tr>\n",
       "      <th>min</th>\n",
       "      <td>61.937323</td>\n",
       "      <td>146.739798</td>\n",
       "    </tr>\n",
       "    <tr>\n",
       "      <th>25%</th>\n",
       "      <td>67.022175</td>\n",
       "      <td>170.458666</td>\n",
       "    </tr>\n",
       "    <tr>\n",
       "      <th>50%</th>\n",
       "      <td>68.493933</td>\n",
       "      <td>183.348240</td>\n",
       "    </tr>\n",
       "    <tr>\n",
       "      <th>75%</th>\n",
       "      <td>70.794784</td>\n",
       "      <td>198.639430</td>\n",
       "    </tr>\n",
       "    <tr>\n",
       "      <th>max</th>\n",
       "      <td>76.709835</td>\n",
       "      <td>241.893563</td>\n",
       "    </tr>\n",
       "  </tbody>\n",
       "</table>\n",
       "</div>"
      ],
      "text/plain": [
       "           Height      Weight\n",
       "count  194.000000  194.000000\n",
       "mean    68.806316  185.574280\n",
       "std      2.660740   19.450003\n",
       "min     61.937323  146.739798\n",
       "25%     67.022175  170.458666\n",
       "50%     68.493933  183.348240\n",
       "75%     70.794784  198.639430\n",
       "max     76.709835  241.893563"
      ]
     },
     "execution_count": 5,
     "metadata": {},
     "output_type": "execute_result"
    }
   ],
   "source": [
    "data.describe()"
   ]
  },
  {
   "cell_type": "markdown",
   "id": "cd41cb26",
   "metadata": {},
   "source": [
    "<h2 style=\"color:green\"> FILL NULL DATA WITH MEDIAN </h2>"
   ]
  },
  {
   "cell_type": "code",
   "execution_count": 6,
   "id": "0dd34a6d",
   "metadata": {},
   "outputs": [],
   "source": [
    "data.Height.fillna(data.Height.median(),inplace=True)"
   ]
  },
  {
   "cell_type": "code",
   "execution_count": 7,
   "id": "5d663947",
   "metadata": {},
   "outputs": [],
   "source": [
    "data.Weight.fillna(data.Weight.median(),inplace=True)"
   ]
  },
  {
   "cell_type": "markdown",
   "id": "976be75d",
   "metadata": {},
   "source": [
    "<h2 style=\"color:green\"> BOXPLOT-CHECK FOR OUTLIERS </h2>"
   ]
  },
  {
   "cell_type": "code",
   "execution_count": 8,
   "id": "265f17af",
   "metadata": {},
   "outputs": [
    {
     "data": {
      "text/plain": [
       "{'whiskers': [<matplotlib.lines.Line2D at 0x1cb0a55d580>,\n",
       "  <matplotlib.lines.Line2D at 0x1cb0a55d910>],\n",
       " 'caps': [<matplotlib.lines.Line2D at 0x1cb0a55dca0>,\n",
       "  <matplotlib.lines.Line2D at 0x1cb0a567070>],\n",
       " 'boxes': [<matplotlib.lines.Line2D at 0x1cb0a55d1f0>],\n",
       " 'medians': [<matplotlib.lines.Line2D at 0x1cb0a567400>],\n",
       " 'fliers': [<matplotlib.lines.Line2D at 0x1cb0a567790>],\n",
       " 'means': []}"
      ]
     },
     "execution_count": 8,
     "metadata": {},
     "output_type": "execute_result"
    },
    {
     "data": {
      "image/png": "[encoded data removed]",
      "text/plain": [
       "<Figure size 432x288 with 2 Axes>"
      ]
     },
     "metadata": {
      "needs_background": "light"
     },
     "output_type": "display_data"
    }
   ],
   "source": [
    "plt.subplot(1,2,1)\n",
    "plt.boxplot(data[\"Height\"])\n",
    "plt.subplot(1,2,2)\n",
    "plt.boxplot(data[\"Weight\"])"
   ]
  },
  {
   "cell_type": "code",
   "execution_count": 9,
   "id": "19011f80",
   "metadata": {},
   "outputs": [
    {
     "data": {
      "text/plain": [
       "ShapiroResult(statistic=0.99258953332901, pvalue=0.41264161467552185)"
      ]
     },
     "execution_count": 9,
     "metadata": {},
     "output_type": "execute_result"
    }
   ],
   "source": [
    "stats.shapiro(data.Height)"
   ]
  },
  {
   "cell_type": "code",
   "execution_count": 10,
   "id": "85341a53",
   "metadata": {},
   "outputs": [
    {
     "data": {
      "text/plain": [
       "ShapiroResult(statistic=0.9829728007316589, pvalue=0.016405556350946426)"
      ]
     },
     "execution_count": 10,
     "metadata": {},
     "output_type": "execute_result"
    }
   ],
   "source": [
    "stats.shapiro(data.Weight)"
   ]
  },
  {
   "cell_type": "markdown",
   "id": "ede67174",
   "metadata": {},
   "source": [
    "<h2 style=\"color:green\"> SPLIT THE DATA INTO TRAINING SET AND TEST SET </h2>"
   ]
  },
  {
   "cell_type": "code",
   "execution_count": 11,
   "id": "2df24a0d",
   "metadata": {},
   "outputs": [
    {
     "name": "stdout",
     "output_type": "stream",
     "text": [
      "        Height      Weight\n",
      "0    73.847017  241.893563\n",
      "1    68.781904  162.310473\n",
      "2    74.110105  212.740856\n",
      "3    71.730978  220.042470\n",
      "4    69.881796  206.349801\n",
      "..         ...         ...\n",
      "155  69.308403  198.378694\n",
      "156  68.838463  179.907717\n",
      "157  61.937323  147.263687\n",
      "158  68.593336  176.984251\n",
      "159  65.218576  185.467788\n",
      "\n",
      "[160 rows x 2 columns]\n"
     ]
    }
   ],
   "source": [
    "train=data.iloc[:160]#80%=80/100*110\n",
    "print(train)"
   ]
  },
  {
   "cell_type": "code",
   "execution_count": 12,
   "id": "b5ead52b",
   "metadata": {},
   "outputs": [
    {
     "name": "stdout",
     "output_type": "stream",
     "text": [
      "        Height      Weight\n",
      "160  64.333648  177.493802\n",
      "161  68.748907  169.827477\n",
      "162  72.489655  198.581698\n",
      "163  67.233931  203.350339\n",
      "164  67.263605  193.217673\n",
      "165  65.118504  178.134945\n",
      "166  66.262820  162.779583\n",
      "167  67.701680  159.286511\n",
      "168  65.530696  172.114312\n",
      "169  69.868970  201.837043\n",
      "170  68.493933  170.352330\n",
      "171  72.213963  205.389761\n",
      "172  68.179533  169.787768\n",
      "173  71.981207  200.437310\n",
      "174  66.065137  178.588954\n",
      "175  66.656164  168.014030\n",
      "176  67.599424  177.766426\n",
      "177  68.245944  193.277624\n",
      "178  64.808621  162.379541\n",
      "179  67.492218  183.383824\n",
      "180  68.180731  181.056095\n",
      "181  69.553385  210.871799\n",
      "182  66.402250  165.568499\n",
      "183  68.493933  196.148450\n",
      "184  71.935887  202.046425\n",
      "185  68.287042  170.413602\n",
      "186  69.955451  201.948085\n",
      "187  71.851129  193.386985\n",
      "188  65.755499  179.855690\n",
      "189  67.031852  156.489935\n",
      "190  76.709835  235.035419\n",
      "191  72.571121  230.560535\n",
      "192  69.728805  203.895655\n",
      "193  72.799224  183.348240\n",
      "194  72.539354  222.667178\n",
      "195  72.294743  208.474866\n",
      "196  67.253325  180.779780\n",
      "197  75.944460  231.924748\n",
      "198  66.316232  170.593858\n"
     ]
    }
   ],
   "source": [
    "test=data.iloc[160:]\n",
    "print(test)"
   ]
  },
  {
   "cell_type": "markdown",
   "id": "d087f375",
   "metadata": {},
   "source": [
    "<h2 style=\"color:green\"> SCATTERPLOT </h2>"
   ]
  },
  {
   "cell_type": "code",
   "execution_count": 13,
   "id": "a1930926",
   "metadata": {},
   "outputs": [
    {
     "data": {
      "text/plain": [
       "<AxesSubplot:xlabel='Height', ylabel='Weight'>"
      ]
     },
     "execution_count": 13,
     "metadata": {},
     "output_type": "execute_result"
    },
    {
     "data": {
      "image/png": "[encoded data removed]",
      "text/plain": [
       "<Figure size 432x288 with 1 Axes>"
      ]
     },
     "metadata": {
      "needs_background": "light"
     },
     "output_type": "display_data"
    }
   ],
   "source": [
    "sns.scatterplot(x='Height',y=\"Weight\",data=data)"
   ]
  },
  {
   "cell_type": "markdown",
   "id": "6cbd186b",
   "metadata": {},
   "source": [
    "<h2 style=\"color:green\"> CORELATION COEFFICIENT </h2>"
   ]
  },
  {
   "cell_type": "code",
   "execution_count": 14,
   "id": "749a0c04",
   "metadata": {},
   "outputs": [
    {
     "data": {
      "text/plain": [
       "(0.7851738035199147, 7.227125316080134e-43)"
      ]
     },
     "execution_count": 14,
     "metadata": {},
     "output_type": "execute_result"
    }
   ],
   "source": [
    "stats.pearsonr(data.Height,data.Weight)"
   ]
  },
  {
   "cell_type": "markdown",
   "id": "3bebc267",
   "metadata": {},
   "source": [
    "<h2 style=\"color:green\"> TRAIN THE MODEL ON TRAINING SET AND EVALUATE THE MODEL</h2>"
   ]
  },
  {
   "cell_type": "code",
   "execution_count": 15,
   "id": "0349a695",
   "metadata": {},
   "outputs": [
    {
     "name": "stderr",
     "output_type": "stream",
     "text": [
      "D:\\Anaconda\\lib\\site-packages\\statsmodels\\tsa\\tsatools.py:142: FutureWarning: In a future version of pandas all arguments of concat except for the argument 'objs' will be keyword-only\n",
      "  x = pd.concat(x[::order], 1)\n"
     ]
    },
    {
     "data": {
      "text/html": [
       "<table class=\"simpletable\">\n",
       "<caption>OLS Regression Results</caption>\n",
       "<tr>\n",
       "  <th>Dep. Variable:</th>         <td>Weight</td>      <th>  R-squared:         </th> <td>   0.612</td>\n",
       "</tr>\n",
       "<tr>\n",
       "  <th>Model:</th>                   <td>OLS</td>       <th>  Adj. R-squared:    </th> <td>   0.609</td>\n",
       "</tr>\n",
       "<tr>\n",
       "  <th>Method:</th>             <td>Least Squares</td>  <th>  F-statistic:       </th> <td>   248.9</td>\n",
       "</tr>\n",
       "<tr>\n",
       "  <th>Date:</th>             <td>Sun, 03 Apr 2022</td> <th>  Prob (F-statistic):</th> <td>2.84e-34</td>\n",
       "</tr>\n",
       "<tr>\n",
       "  <th>Time:</th>                 <td>23:21:04</td>     <th>  Log-Likelihood:    </th> <td> -620.37</td>\n",
       "</tr>\n",
       "<tr>\n",
       "  <th>No. Observations:</th>      <td>   160</td>      <th>  AIC:               </th> <td>   1245.</td>\n",
       "</tr>\n",
       "<tr>\n",
       "  <th>Df Residuals:</th>          <td>   158</td>      <th>  BIC:               </th> <td>   1251.</td>\n",
       "</tr>\n",
       "<tr>\n",
       "  <th>Df Model:</th>              <td>     1</td>      <th>                     </th>     <td> </td>   \n",
       "</tr>\n",
       "<tr>\n",
       "  <th>Covariance Type:</th>      <td>nonrobust</td>    <th>                     </th>     <td> </td>   \n",
       "</tr>\n",
       "</table>\n",
       "<table class=\"simpletable\">\n",
       "<tr>\n",
       "     <td></td>       <th>coef</th>     <th>std err</th>      <th>t</th>      <th>P>|t|</th>  <th>[0.025</th>    <th>0.975]</th>  \n",
       "</tr>\n",
       "<tr>\n",
       "  <th>const</th>  <td> -214.2100</td> <td>   25.309</td> <td>   -8.464</td> <td> 0.000</td> <td> -264.197</td> <td> -164.223</td>\n",
       "</tr>\n",
       "<tr>\n",
       "  <th>Height</th> <td>    5.8032</td> <td>    0.368</td> <td>   15.776</td> <td> 0.000</td> <td>    5.077</td> <td>    6.530</td>\n",
       "</tr>\n",
       "</table>\n",
       "<table class=\"simpletable\">\n",
       "<tr>\n",
       "  <th>Omnibus:</th>       <td> 4.407</td> <th>  Durbin-Watson:     </th> <td>   2.063</td>\n",
       "</tr>\n",
       "<tr>\n",
       "  <th>Prob(Omnibus):</th> <td> 0.110</td> <th>  Jarque-Bera (JB):  </th> <td>   3.926</td>\n",
       "</tr>\n",
       "<tr>\n",
       "  <th>Skew:</th>          <td> 0.354</td> <th>  Prob(JB):          </th> <td>   0.140</td>\n",
       "</tr>\n",
       "<tr>\n",
       "  <th>Kurtosis:</th>      <td> 3.296</td> <th>  Cond. No.          </th> <td>1.87e+03</td>\n",
       "</tr>\n",
       "</table><br/><br/>Notes:<br/>[1] Standard Errors assume that the covariance matrix of the errors is correctly specified.<br/>[2] The condition number is large, 1.87e+03. This might indicate that there are<br/>strong multicollinearity or other numerical problems."
      ],
      "text/plain": [
       "<class 'statsmodels.iolib.summary.Summary'>\n",
       "\"\"\"\n",
       "                            OLS Regression Results                            \n",
       "==============================================================================\n",
       "Dep. Variable:                 Weight   R-squared:                       0.612\n",
       "Model:                            OLS   Adj. R-squared:                  0.609\n",
       "Method:                 Least Squares   F-statistic:                     248.9\n",
       "Date:                Sun, 03 Apr 2022   Prob (F-statistic):           2.84e-34\n",
       "Time:                        23:21:04   Log-Likelihood:                -620.37\n",
       "No. Observations:                 160   AIC:                             1245.\n",
       "Df Residuals:                     158   BIC:                             1251.\n",
       "Df Model:                           1                                         \n",
       "Covariance Type:            nonrobust                                         \n",
       "==============================================================================\n",
       "                 coef    std err          t      P>|t|      [0.025      0.975]\n",
       "------------------------------------------------------------------------------\n",
       "const       -214.2100     25.309     -8.464      0.000    -264.197    -164.223\n",
       "Height         5.8032      0.368     15.776      0.000       5.077       6.530\n",
       "==============================================================================\n",
       "Omnibus:                        4.407   Durbin-Watson:                   2.063\n",
       "Prob(Omnibus):                  0.110   Jarque-Bera (JB):                3.926\n",
       "Skew:                           0.354   Prob(JB):                        0.140\n",
       "Kurtosis:                       3.296   Cond. No.                     1.87e+03\n",
       "==============================================================================\n",
       "\n",
       "Notes:\n",
       "[1] Standard Errors assume that the covariance matrix of the errors is correctly specified.\n",
       "[2] The condition number is large, 1.87e+03. This might indicate that there are\n",
       "strong multicollinearity or other numerical problems.\n",
       "\"\"\""
      ]
     },
     "execution_count": 15,
     "metadata": {},
     "output_type": "execute_result"
    }
   ],
   "source": [
    "train_x=train.Height\n",
    "train_y=train.Weight\n",
    "train_x=sm.add_constant(train_x)\n",
    "model=sm.OLS(train_y,train_x).fit()\n",
    "model.summary()"
   ]
  },
  {
   "cell_type": "markdown",
   "id": "d805bab5",
   "metadata": {},
   "source": [
    "<h2 style=\"color:green\"> PREDICT THE TEST</h2>"
   ]
  },
  {
   "cell_type": "code",
   "execution_count": 16,
   "id": "87ecf8b0",
   "metadata": {},
   "outputs": [
    {
     "name": "stderr",
     "output_type": "stream",
     "text": [
      "D:\\Anaconda\\lib\\site-packages\\statsmodels\\tsa\\tsatools.py:142: FutureWarning: In a future version of pandas all arguments of concat except for the argument 'objs' will be keyword-only\n",
      "  x = pd.concat(x[::order], 1)\n"
     ]
    }
   ],
   "source": [
    "test_x=test.Height\n",
    "test_y=test.Weight\n",
    "test_x=sm.add_constant(test_x)\n",
    "z=model.predict(test_x)"
   ]
  },
  {
   "cell_type": "markdown",
   "id": "0561c205",
   "metadata": {},
   "source": [
    "<h2 style=\"color:green\"> PREDICT THE TEST BY SCATTERPLOT AND LINEPLOT </h2>"
   ]
  },
  {
   "cell_type": "code",
   "execution_count": 17,
   "id": "3799e204",
   "metadata": {},
   "outputs": [
    {
     "data": {
      "text/plain": [
       "[<matplotlib.lines.Line2D at 0x1cb0ab8d970>]"
      ]
     },
     "execution_count": 17,
     "metadata": {},
     "output_type": "execute_result"
    },
    {
     "data": {
      "image/png": "[encoded data removed]",
      "text/plain": [
       "<Figure size 432x288 with 1 Axes>"
      ]
     },
     "metadata": {
      "needs_background": "light"
     },
     "output_type": "display_data"
    }
   ],
   "source": [
    "plt.scatter(train.Height,train.Weight,color='red')\n",
    "plt.scatter(test.Height,test.Weight,color='blue')\n",
    "plt.plot(test.Height,z,color='black')"
   ]
  },
  {
   "cell_type": "markdown",
   "id": "5cbb7826",
   "metadata": {},
   "source": [
    "<h2 style=\"color:green\"> Hence,HEIGHT AND WEIGHT ARE DIRECTLY PROPOTIONAL</h2>"
   ]
  }
 ],
 "metadata": {
  "kernelspec": {
   "display_name": "Python 3 (ipykernel)",
   "language": "python",
   "name": "python3"
  },
  "language_info": {
   "codemirror_mode": {
    "name": "ipython",
    "version": 3
   },
   "file_extension": ".py",
   "mimetype": "text/x-python",
   "name": "python",
   "nbconvert_exporter": "python",
   "pygments_lexer": "ipython3",
   "version": "3.9.7"
  }
 },
 "nbformat": 4,
 "nbformat_minor": 5
}
